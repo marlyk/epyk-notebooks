{
 "cells": [
  {
   "cell_type": "markdown",
   "metadata": {},
   "source": [
    "<div style=\"float:left;margin:0 10px 10px 0\" markdown=\"1\">\n",
    "    <a href=\"index.ipynb\">\n",
    "        <img src=\"images/epyklogo_whole_small.png\">\n",
    "    </a>\n",
    "</div>"
   ]
  },
  {
   "cell_type": "markdown",
   "metadata": {},
   "source": [
    "### Installation\n",
    "\n",
    "[Quick Overview](quickstart.ipynb)<br>\n",
    "[Juoyter configuration](tutorials/03_configuration_jupyter.ipynb)<br>\n",
    "[Local configuration](tutorials/04_configuration_local.ipynb)<br>\n",
    "[Flask configuration](tutorials/05_configuration_flask.ipynb)<br>\n"
   ]
  },
  {
   "cell_type": "markdown",
   "metadata": {},
   "source": [
    "### CSS tutorials\n",
    "\n",
    "[CSS Framework introduction](tutorials/01_CSS%20Framework.ipynb)<br>\n",
    "[CSS Framework advanced](tutorials/02_CSS%20Framework_advanced.ipynb)\n",
    "\n",
    "<i>Examples</i><br>\n",
    "&nbsp;&nbsp;&nbsp;&nbsp;[CSS basic examples](examples/01_css.ipynb)"
   ]
  },
  {
   "cell_type": "markdown",
   "metadata": {},
   "source": [
    "### JS tutorials\n"
   ]
  },
  {
   "cell_type": "markdown",
   "metadata": {},
   "source": [
    "### Framework Components\n",
    "\n",
    "[HTML Components](tutorials/06_html_components.ipynb)<br>\n",
    "[Color Themes](tutorials/07_color_themes.ipynb)<br>\n",
    "[Databases](tutorials/08_databases.ipynb)<br>\n",
    "[Outputs](tutorials/09_outputs.ipynb)<br>\n",
    "[Python functions](tutorials/10_python_helpers.ipynb)"
   ]
  },
  {
   "cell_type": "markdown",
   "metadata": {},
   "source": [
    "### Javascript Packages\n",
    "##### Jquery\n",
    "##### Jquery-ui\n",
    "##### Datatable\n",
    "##### Tabulator"
   ]
  },
  {
   "cell_type": "code",
   "execution_count": null,
   "metadata": {},
   "outputs": [],
   "source": []
  }
 ],
 "metadata": {
  "kernelspec": {
   "display_name": "Python 3",
   "language": "python",
   "name": "python3"
  },
  "language_info": {
   "codemirror_mode": {
    "name": "ipython",
    "version": 3
   },
   "file_extension": ".py",
   "mimetype": "text/x-python",
   "name": "python",
   "nbconvert_exporter": "python",
   "pygments_lexer": "ipython3",
   "version": "3.6.7"
  }
 },
 "nbformat": 4,
 "nbformat_minor": 2
}
