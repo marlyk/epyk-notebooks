{
 "cells": [
  {
   "cell_type": "code",
   "execution_count": 3,
   "metadata": {},
   "outputs": [
    {
     "data": {
      "text/html": [
       "<!DOCTYPE html>\n",
       "<HTML>\n",
       "<style>\n",
       "    .py_cssstandardlinks { color: #263238; }\n",
       ".py_cssstandardlinks:hover { text-decoration: underline; color: #000000; }\n",
       "::-moz-selection { background: #e8f2ef; }\n",
       "</style>\n",
       "<link rel=\"stylesheet\" href=\"https://use.fontawesome.com/releases/v5.9.0/css/all.css\" type=\"text/css\">\n",
       "<script language=\"javascript\" type=\"text/javascript\" src=\"https://use.fontawesome.com/releases/v5.9.0/js/fontawesome.js\"></script>\n",
       "    \n",
       "<label id=\"label_1410335283016\"  style=\"width:100px;height:23px;color:red;font-size:12px;text-align:center;margin:0 5px;float:left;display:inline-block;border:1px solid black\" class=\"\">test</label>\n",
       "<script>\n",
       "    function Label(htmlObj, data, jsStyles){htmlObj.html(data)};var label_1410335283016_data = \"test\";var label_1410335283016_markDownFnc = false;Label($('#label_1410335283016'), label_1410335283016_data)\n",
       "</script>\n",
       "</HTML>"
      ],
      "text/plain": [
       "<epyk.core.py.PyOuts.PyOuts at 0x1485e8891d0>"
      ]
     },
     "execution_count": 3,
     "metadata": {},
     "output_type": "execute_result"
    }
   ],
   "source": [
    "import sys\n",
    "sys.path.append(r\"C:\\Users\\olivier\\Documents\\GitHub\\epyk-ui\")\n",
    "\n",
    "from epyk.core.Page import Report\n",
    "\n",
    "\n",
    "rptObj = Report()\n",
    "rptObj.ui.texts.label(\"test\").css({\"color\": 'red', \"border\": '1px solid black'})\n",
    "\n",
    "rptObj.outs.jupyter()"
   ]
  },
  {
   "cell_type": "code",
   "execution_count": 5,
   "metadata": {},
   "outputs": [
    {
     "data": {
      "text/html": [
       "<!DOCTYPE html>\n",
       "<HTML>\n",
       "<style>\n",
       "    .py_csstitle { padding: 0; font-size: 14px; font-family: arial; margin-bottom: 0; white-space: pre-wrap; font-weight: bold; }\n",
       ".py_cssstandardlinks { color: #263238; }\n",
       ".py_cssstandardlinks:hover { text-decoration: underline; color: #000000; }\n",
       "::-moz-selection { background: #e8f2ef; }\n",
       ".py_cssdivnoborder { margin: 0; font-family: Calibri; clear: both; padding: 0; border: 0; }\n",
       ".py_cssinput { font-size: 12px; font-family: Calibri; border: 1px solid #eceff1; text-align: center; cursor: text; margin: 0; padding: 2px; border-radius: 5px; background: #eceff1; color: #000000; }\n",
       ".py_cssinput:hover { color: #3bb194; }\n",
       ".py_cssinput:focus { outline: 0; }\n",
       ".py_cssbuttonbasic { font-weight: bold; padding: 1px 10px; margin: 2px 0 2px 0; text-decoration: none; border-radius: 5px; white-space: nowrap; display: inline-block; border: 1px solid #263238; color: #000000; background-color: #FFFFFF; }\n",
       ".py_cssbuttonbasic:hover { text-decoration: none; cursor: pointer; background-color: #263238; color: #eceff1; }\n",
       ".py_cssbuttonbasic:disabled { cursor: none; background-color: #263238; color: #546e7a; font-style: italic; }\n",
       ".py_cssbuttonbasic:focus { outline: 0; }\n",
       "</style>\n",
       "<link rel=\"stylesheet\" href=\"https://use.fontawesome.com/releases/v5.9.0/css/all.css\" type=\"text/css\">\n",
       "<script language=\"javascript\" type=\"text/javascript\" src=\"https://use.fontawesome.com/releases/v5.9.0/js/fontawesome.js\"></script>\n",
       "    \n",
       "<div id=\"title_1410335218432\"  style=\"width:100%;margin:5px 0 5px 0;font-size:12px;color:#263238;display:inline-block\" class=\"py_csstitle \"><a class=\"anchorjs-link\"></a></div>\n",
       "<label id=\"label_1410335428680\"  style=\"width:100px;height:23px;color:inherit;font-size:12px;text-align:center;margin:0 5px;float:left;display:inline-block\" class=\"\">data</label>\n",
       "<input id=\"input_1410335428960\" placeholder=\"\" type=\"text\" value=\"\" spellcheck=\"False\" style=\"width:200px;vertical-align:top;margin:0 4px\" class=\"py_cssdivnoborder py_cssinput\" />\n",
       "<form id=\"form_1410335218208\" action=\"youpi\" method=\"GET\" style=\"padding:5px\" class=\"py_cssdivnoborder\"></form>\n",
       "<label id=\"label_1410335429184\"  style=\"width:auto;height:auto;color:inherit;font-size:12px;text-align:center;margin:1px auto;float:right;display:inline-block;cursor:inherit\" class=\"\">Run</label>\n",
       "<button data-count=0 id=\"button_1410335429464\" type=\"submit\" value=\"Submit\" style=\"cursor:pointer;font-size:12px;margin:0\" class=\"py_cssbuttonbasic\"></button>\n",
       "<script>\n",
       "    function Title(htmlObj, data, jsStyles){htmlObj.text(data); if(typeof jsStyles !== 'undefined'){htmlObj.parent().css(jsStyles)}};function Label(htmlObj, data, jsStyles){htmlObj.html(data)};function Button(htmlObj, data, jsStyles){htmlObj.empty(); htmlObj.append(data)};var title_1410335218432_data = \"Title\";var title_1410335218432_markDownFnc = false;var label_1410335428680_data = \"data\";var label_1410335428680_markDownFnc = false;var input_1410335428960_markDownFnc = false;var form_1410335218208_markDownFnc = false;var label_1410335429184_data = \"Run\";var label_1410335429184_markDownFnc = false;var button_1410335429464_data = \"Run\";var button_1410335429464_markDownFnc = false;document.getElementById('form_1410335218208').appendChild(document.getElementById('title_1410335218432'));document.getElementById('form_1410335218208').appendChild(document.getElementById('label_1410335428680'));document.getElementById('form_1410335218208').appendChild(document.getElementById('input_1410335428960'));Title($('#title_1410335218432 a'), title_1410335218432_data);Label($('#label_1410335428680'), label_1410335428680_data);Title($('#title_1410335218432 a'), title_1410335218432_data);Label($('#label_1410335428680'), label_1410335428680_data);document.getElementById('button_1410335429464').insertBefore(document.getElementById('label_1410335429184'), document.getElementById('button_1410335429464').firstChild);document.getElementById('form_1410335218208').appendChild(document.getElementById('button_1410335429464'));Label($('#label_1410335429184'), label_1410335429184_data);Label($('#label_1410335429184'), label_1410335429184_data);Button($('#button_1410335429464 label'), button_1410335429464_data)\n",
       "</script>\n",
       "</HTML>"
      ],
      "text/plain": [
       "<epyk.core.py.PyOuts.PyOuts at 0x1485e8796a0>"
      ]
     },
     "execution_count": 5,
     "metadata": {},
     "output_type": "execute_result"
    }
   ],
   "source": [
    "rptObj = Report()\n",
    "rptObj.ui.forms.input(\"youpi\", title=\"Title\", label=\"data\")\n",
    "\n",
    "rptObj.outs.jupyter()"
   ]
  },
  {
   "cell_type": "code",
   "execution_count": 15,
   "metadata": {},
   "outputs": [
    {
     "data": {
      "text/html": [
       "<!DOCTYPE html>\n",
       "<HTML>\n",
       "<style>\n",
       "    .py_csstitle1 { padding: 0 0 5px 0; font-size: 24px; font-weight: bold; text-transform: uppercase; white-space: pre-wrap; border-bottom: 1px dashed black; border-width: 2px; margin-bottom: 5px; color: #616161; border-color: #212121; }\n",
       ".py_cssstandardlinks { color: #263238; }\n",
       ".py_cssstandardlinks:hover { text-decoration: underline; color: #000000; }\n",
       "::-moz-selection { background: #e8f2ef; }\n",
       ".py_csstext { padding: 0; margin: 0; }\n",
       ".py_cssbuttonbasic { font-weight: bold; padding: 1px 10px; margin: 2px 0 2px 0; text-decoration: none; border-radius: 5px; white-space: nowrap; display: inline-block; border: 1px solid #263238; color: #000000; background-color: #FFFFFF; }\n",
       ".py_cssbuttonbasic:hover { text-decoration: none; cursor: pointer; background-color: #263238; color: #eceff1; }\n",
       ".py_cssbuttonbasic:disabled { cursor: none; background-color: #263238; color: #546e7a; font-style: italic; }\n",
       ".py_cssbuttonbasic:focus { outline: 0; }\n",
       "</style>\n",
       "<link rel=\"stylesheet\" href=\"https://use.fontawesome.com/releases/v5.9.0/css/all.css\" type=\"text/css\">\n",
       "<script language=\"javascript\" type=\"text/javascript\" src=\"https://use.fontawesome.com/releases/v5.9.0/js/fontawesome.js\"></script>\n",
       "    \n",
       "<div id=\"title_1410336347304\"  style=\"width:100%;color:None;margin:5px 0 5px 0;font-size:12px;display:inline-block\" class=\"py_csstitle1 \"><a class=\"anchorjs-link\"></a></div>\n",
       "<div id=\"text_1410336346184\"  style=\"width:100%;color:inherit;font-size:12px;text-align:left\" class=\"py_csstext\"></div>\n",
       "<label id=\"label_1410336347920\"  style=\"width:auto;height:auto;color:inherit;font-size:12px;text-align:center;margin:1px auto;float:right;display:inline-block;cursor:inherit\" class=\"\">click</label>\n",
       "<button data-count=0 id=\"button_1410336347584\"  style=\"cursor:pointer;font-size:12px\" class=\"py_cssbuttonbasic\"></button>\n",
       "<script>\n",
       "    function JsMarkUp(data){data = \"\"+data;\n",
       "    data = data.replace(/\\*\\*(.*?)\\*\\*/g, \"<b>$1</b>\");\n",
       "    data = data.replace(/\\*\\*\\*(.*?)\\*\\*\\*/g, \"<b><i>$1</i></b>\");\n",
       "    data = data.replace(/\\*(.*?)\\*/g, \"<i>$1</i>\");\n",
       "    data = data.replace(/__(.*?)__/g, \"<u>$1</u>\");\n",
       "    data = data.replace(/~~(.*?)~~/g, \"<i>$1</i>\");\n",
       "    data = data.replace(/--(.*?)--/g, \"<del>$1</del>\");\n",
       "    data = data.replace(/<<(.*?)>>/g, \"<a href='$1'>Link</a>\");\n",
       "    data = data.replace(/\\!\\((.*?)\\)/g, \"<i class='$1'></i>\");\n",
       "    data = data.replace(/\\[(.*?)\\]\\(https\\\\:(.*?)\\)/g, \"<a href='$2' target='_blank'>$1</a>\");\n",
       "    data = data.replace(/\\[(.*?)\\]\\(http\\\\:(.*?)\\)/g, \"<a href='$2' target='_blank'>$1</a>\");\n",
       "    data = data.replace(/\\[(.*?)\\]\\((.*?)\\)/g, \"<a href='$2'>$1</a>\");\n",
       "    if ((data == '') || ( data == '__' )){ data = '<br />'};\n",
       "    result = data\n",
       "    ; return result};function Title(htmlObj, data, jsStyles){htmlObj.text(data); if(typeof jsStyles !== 'undefined'){htmlObj.parent().css(jsStyles)}};function Text(htmlObj, data, jsStyles){\n",
       "      if (jsStyles.reset){htmlObj.html(JsMarkUp(data))} \n",
       "      else {\n",
       "        if(data != ''){ \n",
       "          if ((jsStyles.maxlength != undefined) && (data.length > jsStyles.maxlength)){\n",
       "            var div = $(\"<div title='\"+ data +\"' data-html='true'>\" + JsMarkUp(data.slice(0, jsStyles.maxlength)) + \"...<i class='fas fa-times' onclick='$(this).parent().remove()' style='margin-left:10px;cursor:pointer'></i></div>\") ;\n",
       "            htmlObj.append(div)} \n",
       "          else{\n",
       "            var div = $(\"<div>\" + JsMarkUp(data) + \"<i class='fas fa-times' onclick='$(this).parent().remove()' style='margin-left:10px;cursor:pointer'></i></div>\") ; \n",
       "            htmlObj.append(div)}}}};function Label(htmlObj, data, jsStyles){htmlObj.html(data)};function Button(htmlObj, data, jsStyles){htmlObj.empty(); htmlObj.append(data)};var title_1410336347304_data = \"test\";var title_1410336347304_markDownFnc = false;var text_1410336346184_data = \"test\";var text_1410336346184_markDownFnc = false;var label_1410336347920_data = \"click\";var label_1410336347920_markDownFnc = false;var button_1410336347584_data = \"click\";var button_1410336347584_markDownFnc = false;document.getElementById('button_1410336347584').insertBefore(document.getElementById('label_1410336347920'), document.getElementById('button_1410336347584').firstChild);Title($('#title_1410336347304 a'), title_1410336347304_data);Text($('#text_1410336346184'), text_1410336346184_data, {\"reset\": true, \"markdown\": true});Label($('#label_1410336347920'), label_1410336347920_data);Label($('#label_1410336347920'), label_1410336347920_data);document.getElementById('button_1410336347584').style.cursor = \"pointer\";document.getElementById('button_1410336347584').onclick = function(){window.alert(\"test\")};Button($('#button_1410336347584 label'), button_1410336347584_data)\n",
       "</script>\n",
       "</HTML>"
      ],
      "text/plain": [
       "<epyk.core.py.PyOuts.PyOuts at 0x1485e98d748>"
      ]
     },
     "execution_count": 15,
     "metadata": {},
     "output_type": "execute_result"
    }
   ],
   "source": [
    "rptObj = Report()\n",
    "rptObj.ui.title(\"test\", level=1)\n",
    "rptObj.ui.texts.text(\"test\")\n",
    "button = rptObj.ui.button(\"click\")\n",
    "button.click([rptObj.js.window.alert(\"test\")])\n",
    "rptObj.outs.jupyter()"
   ]
  },
  {
   "cell_type": "code",
   "execution_count": 13,
   "metadata": {},
   "outputs": [
    {
     "data": {
      "text/html": [
       "<!DOCTYPE html>\n",
       "<HTML>\n",
       "<style>\n",
       "    .py_cssstandardlinks { color: #263238; }\n",
       ".py_cssstandardlinks:hover { text-decoration: underline; color: #000000; }\n",
       "::-moz-selection { background: #e8f2ef; }\n",
       ".py_csstabulator { border: 1px solid #e0e0e0 !IMPORTANT; font-size: 12px; background-color: #eeeeee; font-family: Calibri; }\n",
       ".py_csstabulatorheaders .tabulator-headers { color: #FFFFFF !IMPORTANT; border: none; background: #FFFFFF !IMPORTANT; }\n",
       ".py_csstabulatorcol .tabulator-col { text-align: center !IMPORTANT; color: #000000; border: 1px solid #e0e0e0 !IMPORTANT; background: #FFFFFF !IMPORTANT; }\n",
       ".py_csstabulatorevenrow .tabulator-row-even { color: #000000; border: 1px solid #cfd8dc !IMPORTANT; background-color: #cfd8dc; }\n",
       ".py_csstabulatorrow .tabulator-row { text-align: center !IMPORTANT; }\n",
       ".py_csstabulatorrow .tabulator-row:hover { color: #000000; border: 1px solid #3bb194 !IMPORTANT; background-color: #90a4ae; }\n",
       ".py_csstabulatoroddrow .tabulator-row-odd { color: #000000; border: 1px solid #FFFFFF !IMPORTANT; background-color: #FFFFFF; }\n",
       ".py_csstabulatorgroups .tabulator-group { text-align: center !IMPORTANT; }\n",
       ".py_csstabulatorfooter .tabulator-footer { color: #000000 !IMPORTANT; border: none !IMPORTANT; background: #FFFFFF !IMPORTANT; }\n",
       ".py_csstabulatorfooterpagination .tabulator-page:not(.disabled) { color: #000000 !IMPORTANT; border: none !IMPORTANT; background: #FFFFFF !IMPORTANT; }\n",
       ".py_csstabulatorfooterpagination .tabulator-page:not(.disabled):hover { color: #eceff1 !IMPORTANT; background: #263238 !IMPORTANT; }\n",
       ".py_csstabulatorheader .tabulator-header { color: #FFFFFF !IMPORTANT; border: 1px solid #eeeeee !IMPORTANT; background: #FFFFFF !IMPORTANT; }\n",
       ".py_csstabulatorcolcontent .tabulator-col-content { color: #DEDEDE !IMPORTANT; border: 1px solid #212121 !IMPORTANT; background: #212121 !IMPORTANT; }\n",
       ".py_csstabulatorselected .tabulator-selected { border: 1px solid #3bb194 !IMPORTANT; color: black !IMPORTANT; background: #e8f2ef !IMPORTANT; }\n",
       ".py_csstabulatortreecontrol .tabulator-data-tree-control { border-color: #000000 !IMPORTANT; }\n",
       ".py_csstabulatortreecontrolexpand .tabulator-data-tree-control-expand { background: #000000 !IMPORTANT; }\n",
       ".py_csstabulatorcell .tabulator-cell { border-right: 1px solid #e0e0e0 !IMPORTANT; }\n",
       "</style>\n",
       "<link rel=\"stylesheet\" href=\"https://cdnjs.cloudflare.com/ajax/libs/tabulator/4.4.1/css/tabulator.min.css\" type=\"text/css\">\n",
       "<link rel=\"stylesheet\" href=\"https://use.fontawesome.com/releases/v5.9.0/css/all.css\" type=\"text/css\">\n",
       "<script language=\"javascript\" type=\"text/javascript\" src=\"https://cdn.jsdelivr.net/npm/promise-polyfill@8/dist/polyfill.min.js\"></script>\n",
       "<script language=\"javascript\" type=\"text/javascript\" src=\"https://cdnjs.cloudflare.com/ajax/libs/tabulator/4.4.1/js/tabulator_core.min.js\"></script>\n",
       "<script language=\"javascript\" type=\"text/javascript\" src=\"https://cdnjs.cloudflare.com/ajax/libs/tabulator/4.4.1/js/tabulator.min.js\"></script>\n",
       "<script language=\"javascript\" type=\"text/javascript\" src=\"https://use.fontawesome.com/releases/v5.9.0/js/fontawesome.js\"></script>\n",
       "    \n",
       "<div id=\"datatabulator_1410336053568\"  style=\"width:100%\" class=\"py_csstabulator py_csstabulatorheaders py_csstabulatorcol py_csstabulatorevenrow py_csstabulatorrow py_csstabulatoroddrow py_csstabulatorgroups py_csstabulatorfooter py_csstabulatorfooterpagination py_csstabulatorheader py_csstabulatorcolcontent py_csstabulatorselected py_csstabulatortreecontrol py_csstabulatortreecontrolexpand py_csstabulatorcell\"></div>\n",
       "<script>\n",
       "    function DataTabulator(htmlObj, data, jsStyles){ new Tabulator('#datatabulator_1410336053568', data)};var datatabulator_1410336053568_data = {\"data\": [{\"A\": 1, \"B\": 28}], \"columns\": [{\"title\": \"B\", \"field\": \"B\"}, {\"title\": \"A\", \"field\": \"A\"}], \"selectable\": false, \"index\": \"_row\", \"layout\": \"fitColumns\", \"pagination\": \"local\", \"paginationSize\": 25, \"resizableRows\": false, \"movableColumns\": true};var datatabulator_1410336053568_markDownFnc = false;DataTabulator($('#datatabulator_1410336053568'), datatabulator_1410336053568_data)\n",
       "</script>\n",
       "</HTML>"
      ],
      "text/plain": [
       "<epyk.core.py.PyOuts.PyOuts at 0x1485e945588>"
      ]
     },
     "execution_count": 13,
     "metadata": {},
     "output_type": "execute_result"
    }
   ],
   "source": [
    "rptObj = Report()\n",
    "data = [{\"A\": 1, \"B\": 28}]\n",
    "rptObj.ui.tables.tabulators.table(data, cols=[\"A\"], rows=[\"B\"])\n",
    "\n",
    "rptObj.outs.jupyter()"
   ]
  }
 ],
 "metadata": {
  "kernelspec": {
   "display_name": "Python 3",
   "language": "python",
   "name": "python3"
  },
  "language_info": {
   "codemirror_mode": {
    "name": "ipython",
    "version": 3
   },
   "file_extension": ".py",
   "mimetype": "text/x-python",
   "name": "python",
   "nbconvert_exporter": "python",
   "pygments_lexer": "ipython3",
   "version": "3.6.7"
  }
 },
 "nbformat": 4,
 "nbformat_minor": 2
}
