{
 "cells": [
  {
   "cell_type": "markdown",
   "metadata": {},
   "source": [
    "![](images/epyklogo_whole_big.png)"
   ]
  },
  {
   "cell_type": "markdown",
   "metadata": {},
   "source": [
    "## Quickstart\n",
    "Get started with a [5-min introduction to Epyk](quickstart.ipynb).\n",
    "\n",
    "## First Version out now!\n",
    "\n",
    "An easy to use Python Framework using JavaScript modules.\n",
    "\n",
    "## Presentation\n",
    "The target of epyk is to ensure the implementation of a coherent system using a minimum of layers. With epyk the user stays in the Python layer to drive and optimize the data transformation. This Framework also encourages the implementation of Micro services and cloud based architecture.\n",
    "\n",
    "## Tutorial\n",
    "Start with the [Introduction and Setup notebook](tutorials.ipynb) and jump to any of the specific topic sections from there.\n",
    "\n",
    "## Compatibility\n",
    "Epik is compatible with the most common Web Python Frameworks (Flask and Django). By default, the server package embeds a Flask app as it is easier to install and ready to use.\n",
    "\n",
    "The Framework can be included within a Jupyter or JupyterLab project. But this will lead to some limitations - for example Ajax and Socket will not be available.\n",
    "\n",
    "## Coming Soon\n",
    "Please get in touch if there is any feature you feel Epyk-UI needs."
   ]
  },
  {
   "cell_type": "markdown",
   "metadata": {},
   "source": [
    "## Useful Links\n"
   ]
  },
  {
   "cell_type": "code",
   "execution_count": null,
   "metadata": {},
   "outputs": [],
   "source": []
  }
 ],
 "metadata": {
  "kernelspec": {
   "display_name": "Python 3",
   "language": "python",
   "name": "python3"
  },
  "language_info": {
   "codemirror_mode": {
    "name": "ipython",
    "version": 3
   },
   "file_extension": ".py",
   "mimetype": "text/x-python",
   "name": "python",
   "nbconvert_exporter": "python",
   "pygments_lexer": "ipython3",
   "version": "3.6.7"
  }
 },
 "nbformat": 4,
 "nbformat_minor": 2
}
