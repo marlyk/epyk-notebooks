{
 "cells": [
  {
   "cell_type": "markdown",
   "metadata": {},
   "source": [
    "<div style=\"float:left;margin:0 10px 10px 0\" markdown=\"1\">\n",
    "    <a href=\"../index.ipynb\">\n",
    "        <img src=\"../images/epyklogo_whole_small.png\">\n",
    "    </a>\n",
    "</div>"
   ]
  },
  {
   "cell_type": "code",
   "execution_count": 1,
   "metadata": {},
   "outputs": [],
   "source": [
    "import sys\n",
    "")"
   ]
  },
  {
   "cell_type": "markdown",
   "metadata": {},
   "source": [
    "## CSS Definitions\n",
    "\n",
    "This framework allow the use of most of the CSS3 features. It will allow from Python to generate complex and interactive styles in a simple way."
   ]
  },
  {
   "cell_type": "code",
   "execution_count": 3,
   "metadata": {},
   "outputs": [
    {
     "data": {
      "text/html": [
       "<!DOCTYPE html>\n",
       "<HTML>\n",
       "<style>\n",
       "    .py_cssstandardlinks { color: #263238; }\n",
       ".py_cssstandardlinks:hover { text-decoration: underline; color: #000000; }\n",
       "::-moz-selection { background: #e8f2ef; }\n",
       "@media only screen and (max-width: 600px){\n",
       ".py_test_media_button_2230062357528 { background-color: yellow !IMPORTANT; }\n",
       "}\n",
       "</style>\n",
       "<link rel=\"stylesheet\" href=\"https://use.fontawesome.com/releases/v5.9.0/css/all.css\" type=\"text/css\">\n",
       "<script language=\"javascript\" type=\"text/javascript\" src=\"https://use.fontawesome.com/releases/v5.9.0/js/fontawesome.js\"></script>\n",
       "\n",
       "<label id=\"label_2230062357640\"  style=\"width:auto;height:auto;color:inherit;font-size:12px;text-align:center;margin:1px auto;float:right;display:inline-block;cursor:inherit\" class=\"\">test</label>\n",
       "<button id=\"button_2230062357528\" data-count=\"0\" style=\"cursor:pointer;font-size:12px\" class=\"py_test_media_button_2230062357528\"></button>\n",
       "<script>\n",
       "    function Label(htmlObj, data, jsStyles){htmlObj.html(data)};function Button(htmlObj, data, jsStyles){htmlObj.empty(); htmlObj.append(data)};var label_2230062357640_data = \"test\";var label_2230062357640_markDownFnc = false;var button_2230062357528_data = \"test\";var button_2230062357528_markDownFnc = false;document.getElementById('button_2230062357528').insertBefore(document.getElementById('label_2230062357640'), document.getElementById('button_2230062357528').firstChild);Label($('#label_2230062357640'), label_2230062357640_data);Label($('#label_2230062357640'), label_2230062357640_data);Button($('#button_2230062357528 label'), button_2230062357528_data)\n",
       "</script>\n",
       "</HTML>"
      ],
      "text/plain": [
       "<epyk.core.py.PyOuts.PyOuts at 0x2073a131f98>"
      ]
     },
     "execution_count": 3,
     "metadata": {},
     "output_type": "execute_result"
    }
   ],
   "source": [
    "from epyk.core.Page import Report\n",
    "\n",
    "rptObj = Report()\n",
    "\n",
    "button = rptObj.ui.button(\"test\")\n",
    "button.style.clear()\n",
    "\n",
    "# Create a new CSS class on the fly dedicated to the small devices\n",
    "button.style.cssCls(\"test_media\", {\"background-color\": 'yellow'}, isMedia=True)\n",
    "\n",
    "# Derive from an existing CSS class\n",
    "#button.defined.ovr(\"CssButtonBasic\", eventAttrs={'hover': {\"cursor\": \"cell\"}})\n",
    "\n",
    "rptObj.outs.jupyter()"
   ]
  },
  {
   "cell_type": "code",
   "execution_count": 2,
   "metadata": {},
   "outputs": [
    {
     "name": "stdout",
     "output_type": "stream",
     "text": [
      "{'clsMap': {'CssTitle', 'CssHrefNoDecoration'}, 'clsAltMap': set()}\n"
     ]
    },
    {
     "data": {
      "text/html": [
       "<!DOCTYPE html>\n",
       "<HTML>\n",
       "<style>\n",
       "    .py_csstitle { padding: 0; font-size: 14px; font-family: arial; margin-bottom: 0; white-space: pre-wrap; font-weight: bold; }\n",
       ".py_cssstandardlinks { color: #263238; }\n",
       ".py_cssstandardlinks:hover { text-decoration: underline; color: #000000; }\n",
       "::-moz-selection { background: #e8f2ef; }\n",
       ".py_csshrefnodecoration > a { text-decoration: none; color: inherit; }\n",
       "</style>\n",
       "<link rel=\"stylesheet\" href=\"https://use.fontawesome.com/releases/v5.9.0/css/all.css\" type=\"text/css\">\n",
       "<script language=\"javascript\" type=\"text/javascript\" src=\"https://use.fontawesome.com/releases/v5.9.0/js/fontawesome.js\"></script>\n",
       "\n",
       "<div id=\"title_2686142362624\"  style=\"width:100%;margin:5px 0 5px 0;font-size:12px;color:red;display:inline-block;cursor:cell\" class=\"py_csstitle py_csshrefnodecoration\"><a></a></div>\n",
       "<script>\n",
       "    function toMarkUp(data){var result = []; data = \"\"+data;data = data.replace(/\\*\\*(.*?)\\*\\*/g, \"<b>$1</b>\");data = data.replace(/\\*\\*\\*(.*?)\\*\\*\\*/g, \"<b><i>$1</i></b>\");data = data.replace(/\\*(.*?)\\*/g, \"<i>$1</i>\");data = data.replace(/__(.*?)__/g, \"<u>$1</u>\");data = data.replace(/~~(.*?)~~/g, \"<i>$1</i>\");data = data.replace(/--(.*?)--/g, \"<del>$1</del>\");data = data.replace(/<<(.*?)>>/g, \"<a href='$1'>Link</a>\");data = data.replace(/\\!\\((.*?)\\)/g, \"<i class='$1'></i>\");data = data.replace(/\\[(.*?)\\]\\(https\\\\:(.*?)\\)/g, \"<a href='$2' target='_blank'>$1</a>\");data = data.replace(/\\[(.*?)\\]\\(http\\\\:(.*?)\\)/g, \"<a href='$2' target='_blank'>$1</a>\");data = data.replace(/\\[(.*?)\\]\\((.*?)\\)/g, \"<a href='$2'>$1</a>\");if ((data == '') || ( data == '__' )){ data = '<br />'};result = data; return result};function Title(htmlObj, data, jsStyles){\n",
       "      if(jsStyles.markdown){htmlObj.html(toMarkUp(data))} else{htmlObj.html(data)};\n",
       "      if(typeof jsStyles.css !== 'undefined'){htmlObj.parent().css(jsStyles.css)}};var title_2686142362624_data = \"Example of title\";var title_2686142362624_markDownFnc = false;Title($('#title_2686142362624 a'), title_2686142362624_data, {\"reset\": true, \"markdown\": false})\n",
       "</script>\n",
       "</HTML>"
      ],
      "text/plain": [
       "<epyk.core.py.PyOuts.PyOuts at 0x2715a236e10>"
      ]
     },
     "execution_count": 2,
     "metadata": {},
     "output_type": "execute_result"
    }
   ],
   "source": [
    "from epyk.core.Page import Report\n",
    "\n",
    "rptObj = Report()\n",
    "\n",
    "# Change the style for the CSS HTML Title component\n",
    "title = rptObj.ui.title(\"Example of title\")\n",
    "title.css({\"color\": 'red', 'cursor': 'cell'})\n",
    "print(title.defined)\n",
    "rptObj.outs.jupyter()"
   ]
  },
  {
   "cell_type": "code",
   "execution_count": 10,
   "metadata": {},
   "outputs": [
    {
     "data": {
      "text/html": [
       "<!DOCTYPE html>\n",
       "<HTML>\n",
       "<style>\n",
       "    .py_class_text_text_2230063197264 { color: red !IMPORTANT; }\n",
       ".py_class_text_text_2230063197264:hover { color: green !IMPORTANT; cursor: all-scroll !IMPORTANT; }\n",
       ".py_cssstandardlinks { color: #263238; }\n",
       ".py_cssstandardlinks:hover { text-decoration: underline; color: #000000; }\n",
       "::-moz-selection { background: #e8f2ef; }\n",
       "</style>\n",
       "<link rel=\"stylesheet\" href=\"https://use.fontawesome.com/releases/v5.9.0/css/all.css\" type=\"text/css\">\n",
       "<script language=\"javascript\" type=\"text/javascript\" src=\"https://use.fontawesome.com/releases/v5.9.0/js/fontawesome.js\"></script>\n",
       "\n",
       "<div id=\"text_2230063197264\" title=\"This is a tooltip\" data-toggle=\"tooltip\" data-placement=\"top\" style=\"width:100%;color:inherit;font-size:12px;text-align:left\" class=\"py_class_text_text_2230063197264\"></div>\n",
       "<script>\n",
       "    function toMarkUp(data){var result = []; data = \"\"+data;data = data.replace(/\\*\\*(.*?)\\*\\*/g, \"<b>$1</b>\");data = data.replace(/\\*\\*\\*(.*?)\\*\\*\\*/g, \"<b><i>$1</i></b>\");data = data.replace(/\\*(.*?)\\*/g, \"<i>$1</i>\");data = data.replace(/__(.*?)__/g, \"<u>$1</u>\");data = data.replace(/~~(.*?)~~/g, \"<i>$1</i>\");data = data.replace(/--(.*?)--/g, \"<del>$1</del>\");data = data.replace(/<<(.*?)>>/g, \"<a href='$1'>Link</a>\");data = data.replace(/\\!\\((.*?)\\)/g, \"<i class='$1'></i>\");data = data.replace(/\\[(.*?)\\]\\(https\\\\:(.*?)\\)/g, \"<a href='$2' target='_blank'>$1</a>\");data = data.replace(/\\[(.*?)\\]\\(http\\\\:(.*?)\\)/g, \"<a href='$2' target='_blank'>$1</a>\");data = data.replace(/\\[(.*?)\\]\\((.*?)\\)/g, \"<a href='$2'>$1</a>\");if ((data == '') || ( data == '__' )){ data = '<br />'};result = data; return result};function Text(htmlObj, data, jsStyles){\n",
       "      var content = data;\n",
       "      if(jsStyles.reset){htmlObj.html(\"\")}; \n",
       "      if(data != ''){ \n",
       "        if((jsStyles.maxlength != undefined) && (data.length > jsStyles.maxlength)){\n",
       "          content = data.slice(0, jsStyles.maxlength); \n",
       "          var div = $(\"<div title='\"+ data +\"' data-html='true'>\"+ toMarkUp(content) +\"...</div>\");\n",
       "          htmlObj.append(div)} \n",
       "        else{\n",
       "          var div = $(\"<div>\"+ toMarkUp(content) +\"</div>\"); \n",
       "          htmlObj.append(div)}}};var text_2230063197264_data = \"This is a text\";var text_2230063197264_markDownFnc = false;Text($('#text_2230063197264'), text_2230063197264_data, {\"reset\": true, \"markdown\": true})\n",
       "</script>\n",
       "</HTML>"
      ],
      "text/plain": [
       "<epyk.core.py.PyOuts.PyOuts at 0x2073a1fee10>"
      ]
     },
     "execution_count": 10,
     "metadata": {},
     "output_type": "execute_result"
    }
   ],
   "source": [
    "from epyk.core.Page import Report\n",
    "\n",
    "rptObj = Report()\n",
    "\n",
    "# Change the style for the CSS HTML Text component\n",
    "text = rptObj.ui.text(\"This is a text\")\n",
    "text.style.clear().cssCls(\"class_text\", {\"color\": 'red'}, {\"hover\": {\"color\": 'green', \"cursor\": \"all-scroll\"}})\n",
    "text.tooltip(\"This is a tooltip\")\n",
    "\n",
    "rptObj.outs.jupyter()"
   ]
  },
  {
   "cell_type": "code",
   "execution_count": 3,
   "metadata": {},
   "outputs": [
    {
     "data": {
      "text/html": [
       "<!DOCTYPE html>\n",
       "<HTML>\n",
       "<style>\n",
       "    .py_cssstandardlinks { color: #263238; }\n",
       ".py_cssstandardlinks:hover { text-decoration: underline; color: #000000; }\n",
       "::-moz-selection { background: #e8f2ef; }\n",
       ".py_csstext { padding: 0; margin: 0; }\n",
       "</style>\n",
       "<link rel=\"stylesheet\" href=\"https://use.fontawesome.com/releases/v5.9.0/css/all.css\" type=\"text/css\">\n",
       "<script language=\"javascript\" type=\"text/javascript\" src=\"https://use.fontawesome.com/releases/v5.9.0/js/fontawesome.js\"></script>\n",
       "\n",
       "<div id=\"text_2686142660792\"  style=\"width:100%;color:inherit;font-size:12px;text-align:left\" class=\"py_csstext\"></div>\n",
       "<script>\n",
       "    function toMarkUp(data){var result = []; data = \"\"+data;data = data.replace(/\\*\\*(.*?)\\*\\*/g, \"<b>$1</b>\");data = data.replace(/\\*\\*\\*(.*?)\\*\\*\\*/g, \"<b><i>$1</i></b>\");data = data.replace(/\\*(.*?)\\*/g, \"<i>$1</i>\");data = data.replace(/__(.*?)__/g, \"<u>$1</u>\");data = data.replace(/~~(.*?)~~/g, \"<i>$1</i>\");data = data.replace(/--(.*?)--/g, \"<del>$1</del>\");data = data.replace(/<<(.*?)>>/g, \"<a href='$1'>Link</a>\");data = data.replace(/\\!\\((.*?)\\)/g, \"<i class='$1'></i>\");data = data.replace(/\\[(.*?)\\]\\(https\\\\:(.*?)\\)/g, \"<a href='$2' target='_blank'>$1</a>\");data = data.replace(/\\[(.*?)\\]\\(http\\\\:(.*?)\\)/g, \"<a href='$2' target='_blank'>$1</a>\");data = data.replace(/\\[(.*?)\\]\\((.*?)\\)/g, \"<a href='$2'>$1</a>\");if ((data == '') || ( data == '__' )){ data = '<br />'};result = data; return result};function Text(htmlObj, data, jsStyles){\n",
       "      var content = data;\n",
       "      if(jsStyles.reset){htmlObj.html(\"\")}; \n",
       "      if(data != ''){ \n",
       "        if((jsStyles.maxlength != undefined) && (data.length > jsStyles.maxlength)){\n",
       "          content = data.slice(0, jsStyles.maxlength); \n",
       "          var div = $(\"<div title='\"+ data +\"' data-html='true'>\"+ toMarkUp(content) +\"...</div>\");\n",
       "          htmlObj.append(div)} \n",
       "        else{\n",
       "          var div = $(\"<div>\"+ toMarkUp(content) +\"</div>\"); \n",
       "          htmlObj.append(div)}}};var text_2686142660792_data = \"This is a text\";var text_2686142660792_markDownFnc = false;Text($('#text_2686142660792'), text_2686142660792_data, {\"reset\": true, \"markdown\": true})\n",
       "</script>\n",
       "</HTML>"
      ],
      "text/plain": [
       "<epyk.core.py.PyOuts.PyOuts at 0x2715a236ba8>"
      ]
     },
     "execution_count": 3,
     "metadata": {},
     "output_type": "execute_result"
    }
   ],
   "source": [
    "from epyk.core.Page import Report\n",
    "\n",
    "rptObj = Report()\n",
    "\n",
    "# Change the style for the CSS HTML Text component\n",
    "text = rptObj.ui.text(\"This is a text\")\n",
    "text.css({})\n",
    "\n",
    "rptObj.outs.jupyter()"
   ]
  },
  {
   "cell_type": "code",
   "execution_count": 5,
   "metadata": {},
   "outputs": [
    {
     "data": {
      "text/html": [
       "<!DOCTYPE html>\n",
       "<HTML>\n",
       "<style>\n",
       "    .py_csstitle1 { padding: 0 0 5px 0; font-size: 24px; font-weight: bold; text-transform: uppercase; white-space: pre-wrap; border-bottom: 1px dashed black; border-width: 2px; margin-bottom: 5px; color: #616161; border-color: #212121; }\n",
       ".py_title_style_title_2686142760776 { color: orange !IMPORTANT; }\n",
       ".py_cssstandardlinks { color: #263238; }\n",
       ".py_cssstandardlinks:hover { text-decoration: underline; color: #000000; }\n",
       "::-moz-selection { background: #e8f2ef; }\n",
       ".py_csshrefnodecoration > a { text-decoration: none; color: inherit; }\n",
       "</style>\n",
       "<link rel=\"stylesheet\" href=\"https://use.fontawesome.com/releases/v5.9.0/css/all.css\" type=\"text/css\">\n",
       "<script language=\"javascript\" type=\"text/javascript\" src=\"https://use.fontawesome.com/releases/v5.9.0/js/fontawesome.js\"></script>\n",
       "\n",
       "<div id=\"title_2686142760776\"  style=\"width:100%;color:None;margin:5px 0 5px 0;display:inline-block\" class=\"py_csstitle1 py_title_style_title_2686142760776 py_csshrefnodecoration\"><a></a></div>\n",
       "<script>\n",
       "    function toMarkUp(data){var result = []; data = \"\"+data;data = data.replace(/\\*\\*(.*?)\\*\\*/g, \"<b>$1</b>\");data = data.replace(/\\*\\*\\*(.*?)\\*\\*\\*/g, \"<b><i>$1</i></b>\");data = data.replace(/\\*(.*?)\\*/g, \"<i>$1</i>\");data = data.replace(/__(.*?)__/g, \"<u>$1</u>\");data = data.replace(/~~(.*?)~~/g, \"<i>$1</i>\");data = data.replace(/--(.*?)--/g, \"<del>$1</del>\");data = data.replace(/<<(.*?)>>/g, \"<a href='$1'>Link</a>\");data = data.replace(/\\!\\((.*?)\\)/g, \"<i class='$1'></i>\");data = data.replace(/\\[(.*?)\\]\\(https\\\\:(.*?)\\)/g, \"<a href='$2' target='_blank'>$1</a>\");data = data.replace(/\\[(.*?)\\]\\(http\\\\:(.*?)\\)/g, \"<a href='$2' target='_blank'>$1</a>\");data = data.replace(/\\[(.*?)\\]\\((.*?)\\)/g, \"<a href='$2'>$1</a>\");if ((data == '') || ( data == '__' )){ data = '<br />'};result = data; return result};function Title(htmlObj, data, jsStyles){\n",
       "      if(jsStyles.markdown){htmlObj.html(toMarkUp(data))} else{htmlObj.html(data)};\n",
       "      if(typeof jsStyles.css !== 'undefined'){htmlObj.parent().css(jsStyles.css)}};var title_2686142760776_data = \"Example of title\";var title_2686142760776_markDownFnc = false;Title($('#title_2686142760776 a'), title_2686142760776_data, {\"reset\": true, \"markdown\": false})\n",
       "</script>\n",
       "</HTML>"
      ],
      "text/plain": [
       "<epyk.core.py.PyOuts.PyOuts at 0x2716a95c940>"
      ]
     },
     "execution_count": 5,
     "metadata": {},
     "output_type": "execute_result"
    }
   ],
   "source": [
    "from epyk.core.Page import Report\n",
    "\n",
    "rptObj = Report()\n",
    "\n",
    "title = rptObj.ui.title(\"Example of title\", level=1)\n",
    "title.style.cssCls(\"title_style\", {\"color\": 'orange'})\n",
    "\n",
    "rptObj.outs.jupyter()"
   ]
  },
  {
   "cell_type": "code",
   "execution_count": 6,
   "metadata": {},
   "outputs": [
    {
     "data": {
      "text/html": [
       "<!DOCTYPE html>\n",
       "<HTML>\n",
       "<style>\n",
       "    .py_cssbuttonbasic_button_2686142927592 { font-weight: bold; padding: 1px 10px; margin: 2px 0 2px 0; text-decoration: none; border-radius: 5px; white-space: nowrap; display: inline-block; border: 1px solid #263238; color: #000000; background-color: #FFFFFF; }\n",
       ".py_cssbuttonbasic_button_2686142927592:hover { text-decoration: none; cursor: cell !IMPORTANT; background-color: #263238; color: #eceff1; }\n",
       ".py_cssbuttonbasic_button_2686142927592:disabled { cursor: none; background-color: #263238; color: #546e7a; font-style: italic; }\n",
       ".py_cssbuttonbasic_button_2686142927592:focus { outline: 0; }\n",
       ".py_cssstandardlinks { color: #263238; }\n",
       ".py_cssstandardlinks:hover { text-decoration: underline; color: #000000; }\n",
       "::-moz-selection { background: #e8f2ef; }\n",
       "</style>\n",
       "<link rel=\"stylesheet\" href=\"https://use.fontawesome.com/releases/v5.9.0/css/all.css\" type=\"text/css\">\n",
       "<script language=\"javascript\" type=\"text/javascript\" src=\"https://use.fontawesome.com/releases/v5.9.0/js/fontawesome.js\"></script>\n",
       "\n",
       "<label id=\"label_2686142927704\"  style=\"width:auto;height:auto;color:inherit;font-size:12px;text-align:center;margin:1px auto;float:right;display:inline-block;cursor:inherit\" class=\"\">Button</label>\n",
       "<button id=\"button_2686142927592\" data-count=\"0\" style=\"cursor:pointer;font-size:12px\" class=\"py_cssbuttonbasic_button_2686142927592\"></button>\n",
       "<script>\n",
       "    function Label(htmlObj, data, jsStyles){htmlObj.html(data)};function Button(htmlObj, data, jsStyles){htmlObj.empty(); htmlObj.append(data)};var label_2686142927704_data = \"Button\";var label_2686142927704_markDownFnc = false;var button_2686142927592_data = \"Button\";var button_2686142927592_markDownFnc = false;document.getElementById('button_2686142927592').insertBefore(document.getElementById('label_2686142927704'), document.getElementById('button_2686142927592').firstChild);Label($('#label_2686142927704'), label_2686142927704_data);Label($('#label_2686142927704'), label_2686142927704_data);Button($('#button_2686142927592 label'), button_2686142927592_data)\n",
       "</script>\n",
       "</HTML>"
      ],
      "text/plain": [
       "<epyk.core.py.PyOuts.PyOuts at 0x2716a985390>"
      ]
     },
     "execution_count": 6,
     "metadata": {},
     "output_type": "execute_result"
    }
   ],
   "source": [
    "from epyk.core.Page import Report\n",
    "\n",
    "rptObj = Report()\n",
    "\n",
    "button = rptObj.ui.button(\"Button\")\n",
    "button.defined.ovr(\"CssButtonBasic\", eventAttrs={'hover': {\"cursor\": \"cell\"}})\n",
    "\n",
    "rptObj.outs.jupyter()"
   ]
  }
 ],
 "metadata": {
  "kernelspec": {
   "display_name": "Python 3",
   "language": "python",
   "name": "python3"
  },
  "language_info": {
   "codemirror_mode": {
    "name": "ipython",
    "version": 3
   },
   "file_extension": ".py",
   "mimetype": "text/x-python",
   "name": "python",
   "nbconvert_exporter": "python",
   "pygments_lexer": "ipython3",
   "version": "3.6.7"
  }
 },
 "nbformat": 4,
 "nbformat_minor": 2
}
